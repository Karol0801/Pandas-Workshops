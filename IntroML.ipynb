{
  "nbformat": 4,
  "nbformat_minor": 5,
  "metadata": {
    "kernelspec": {
      "display_name": "Python 3",
      "language": "python",
      "name": "python3"
    },
    "language_info": {
      "codemirror_mode": {
        "name": "ipython",
        "version": 3
      },
      "file_extension": ".py",
      "mimetype": "text/x-python",
      "name": "python",
      "nbconvert_exporter": "python",
      "pygments_lexer": "ipython3",
      "version": "3.9.4"
    },
    "colab": {
      "provenance": [],
      "toc_visible": true,
      "include_colab_link": true
    }
  },
  "cells": [
    {
      "cell_type": "markdown",
      "metadata": {
        "id": "view-in-github",
        "colab_type": "text"
      },
      "source": [
        "<a href=\"https://colab.research.google.com/github/Karol0801/Pandas-Workshops/blob/main/IntroML.ipynb\" target=\"_parent\"><img src=\"https://colab.research.google.com/assets/colab-badge.svg\" alt=\"Open In Colab\"/></a>"
      ]
    },
    {
      "cell_type": "code",
      "metadata": {
        "id": "0d8973b2-9fac-45de-93ae-16fbfe73f825"
      },
      "source": [
        "import pandas as pd\n",
        "import numpy as np\n",
        "import seaborn as sns\n",
        "import matplotlib.pyplot as plt"
      ],
      "id": "0d8973b2-9fac-45de-93ae-16fbfe73f825",
      "execution_count": null,
      "outputs": []
    },
    {
      "cell_type": "markdown",
      "metadata": {
        "id": "38b71971-37ab-482a-b1ff-9d3f153f9b78"
      },
      "source": [
        "### Download data"
      ],
      "id": "38b71971-37ab-482a-b1ff-9d3f153f9b78"
    },
    {
      "cell_type": "code",
      "metadata": {
        "id": "6018df3c-8f21-4e09-9ad5-ec03002096f5",
        "colab": {
          "base_uri": "https://localhost:8080/"
        },
        "outputId": "b09c00d5-da9f-4312-8148-d582b0fd4bb4"
      },
      "source": [
        "%pip install gdown \n",
        "!gdown --id 1z1TxHd97juldLRPz55SXu4InMwbQhdNL\n",
        "!gdown --id 1MmyHNbYAi6Y4fwS3f7pJDjMy8S9QWvCQ\n",
        "!ls -al"
      ],
      "id": "6018df3c-8f21-4e09-9ad5-ec03002096f5",
      "execution_count": null,
      "outputs": [
        {
          "output_type": "stream",
          "name": "stdout",
          "text": [
            "Looking in indexes: https://pypi.org/simple, https://us-python.pkg.dev/colab-wheels/public/simple/\n",
            "Requirement already satisfied: gdown in /usr/local/lib/python3.8/dist-packages (4.4.0)\n",
            "Requirement already satisfied: six in /usr/local/lib/python3.8/dist-packages (from gdown) (1.15.0)\n",
            "Requirement already satisfied: tqdm in /usr/local/lib/python3.8/dist-packages (from gdown) (4.64.1)\n",
            "Requirement already satisfied: filelock in /usr/local/lib/python3.8/dist-packages (from gdown) (3.8.0)\n",
            "Requirement already satisfied: requests[socks] in /usr/local/lib/python3.8/dist-packages (from gdown) (2.23.0)\n",
            "Requirement already satisfied: beautifulsoup4 in /usr/local/lib/python3.8/dist-packages (from gdown) (4.6.3)\n",
            "Requirement already satisfied: chardet<4,>=3.0.2 in /usr/local/lib/python3.8/dist-packages (from requests[socks]->gdown) (3.0.4)\n",
            "Requirement already satisfied: idna<3,>=2.5 in /usr/local/lib/python3.8/dist-packages (from requests[socks]->gdown) (2.10)\n",
            "Requirement already satisfied: urllib3!=1.25.0,!=1.25.1,<1.26,>=1.21.1 in /usr/local/lib/python3.8/dist-packages (from requests[socks]->gdown) (1.24.3)\n",
            "Requirement already satisfied: certifi>=2017.4.17 in /usr/local/lib/python3.8/dist-packages (from requests[socks]->gdown) (2022.9.24)\n",
            "Requirement already satisfied: PySocks!=1.5.7,>=1.5.6 in /usr/local/lib/python3.8/dist-packages (from requests[socks]->gdown) (1.7.1)\n",
            "/usr/local/lib/python3.8/dist-packages/gdown/cli.py:127: FutureWarning: Option `--id` was deprecated in version 4.3.1 and will be removed in 5.0. You don't need to pass it anymore to use a file ID.\n",
            "  warnings.warn(\n",
            "Downloading...\n",
            "From: https://drive.google.com/uc?id=1z1TxHd97juldLRPz55SXu4InMwbQhdNL\n",
            "To: /content/metabolites.csv\n",
            "100% 1.79M/1.79M [00:00<00:00, 71.6MB/s]\n",
            "/usr/local/lib/python3.8/dist-packages/gdown/cli.py:127: FutureWarning: Option `--id` was deprecated in version 4.3.1 and will be removed in 5.0. You don't need to pass it anymore to use a file ID.\n",
            "  warnings.warn(\n",
            "Downloading...\n",
            "From: https://drive.google.com/uc?id=1MmyHNbYAi6Y4fwS3f7pJDjMy8S9QWvCQ\n",
            "To: /content/Data_Cortex_Nuclear.csv\n",
            "100% 1.01M/1.01M [00:00<00:00, 91.3MB/s]\n",
            "total 2752\n",
            "drwxr-xr-x 1 root root    4096 Dec  7 19:05 .\n",
            "drwxr-xr-x 1 root root    4096 Dec  7 19:04 ..\n",
            "drwxr-xr-x 4 root root    4096 Dec  6 14:34 .config\n",
            "-rw-r--r-- 1 root root 1010610 Dec  7 19:05 Data_Cortex_Nuclear.csv\n",
            "-rw-r--r-- 1 root root 1787193 Dec  7 19:05 metabolites.csv\n",
            "drwxr-xr-x 1 root root    4096 Dec  6 14:35 sample_data\n"
          ]
        }
      ]
    },
    {
      "cell_type": "markdown",
      "metadata": {
        "id": "37f40306-6358-4a38-8f05-57550dfb57b5"
      },
      "source": [
        "## Metabolomic dataset\n",
        "\n",
        "The dataset contains information on levels of metabilites in stool samples collected from patients with Colorectal cancer (CRC) and healthy control group.\n",
        "\n",
        "### Metadata\n",
        "* **`Group`** - `Healthy` control group / Various stages of CRC / `HS` - heatlhy with a history of colorectal surgery / `MP` - Multiple polypoid adenomas\n",
        "* **`Stage`** - Stage of disease\n",
        "* **`Age`**\n",
        "* **`Gender`**\n",
        "* **`Brinkman Index`** - Smoking history index\n",
        "* **`Alcohol`** - alcohol consumption (grams per day)\n",
        "* **`Tumor location`**\n",
        "\n",
        "### Metabolites\n",
        "Levels of 450 metabolites\n",
        "\n",
        "### Data Source\n",
        "Dataset is based on *Yachida S, Mizutani S, Shiroma H, et al. Metagenomic and metabolomic analyses reveal distinct stage-specific phenotypes of the gut microbiota in colorectal cancer. Nat Med. 2019;25(6):968-976. doi:10.1038/s41591-019-0458-7*"
      ],
      "id": "37f40306-6358-4a38-8f05-57550dfb57b5"
    },
    {
      "cell_type": "code",
      "metadata": {
        "tags": [],
        "id": "768036c3-af3d-4565-a933-4a1012d4887a",
        "colab": {
          "base_uri": "https://localhost:8080/",
          "height": 366
        },
        "outputId": "a62344db-d3bb-41fa-922d-23578259258f"
      },
      "source": [
        "metabolites = pd.read_csv('metabolites.csv', index_col=0)\n",
        "metabolites.head()"
      ],
      "id": "768036c3-af3d-4565-a933-4a1012d4887a",
      "execution_count": null,
      "outputs": [
        {
          "output_type": "execute_result",
          "data": {
            "text/plain": [
              "             Group Stage  Age Gender        BMI  Brinkman Index  Alcohol  \\\n",
              "Sample ID                                                                  \n",
              "10023      Healthy     -   65      M  26.562500           660.0      0.0   \n",
              "10025      Healthy     -   40      M  25.000000           400.0    993.0   \n",
              "10029      Healthy     -   67      F  20.173253             0.0      0.0   \n",
              "10031      Healthy     -   77      M  24.464602           300.0    813.0   \n",
              "10036      Healthy     -   64      F  21.155294             0.0      0.0   \n",
              "\n",
              "          Tumor location  C00024_Acetyl CoA  C01996_Acetylcholine  ...  \\\n",
              "Sample ID                                                          ...   \n",
              "10023                  -           0.000000              1.036026  ...   \n",
              "10025                  -           4.501771              0.457927  ...   \n",
              "10029                  -           0.000000             -0.128546  ...   \n",
              "10031                  -           3.646184              0.259788  ...   \n",
              "10036                  -           0.000000              1.296258  ...   \n",
              "\n",
              "           C00440_5-Methyltetrahydrofolate  C00170_5-Methylthioadenosine  \\\n",
              "Sample ID                                                                  \n",
              "10023                             3.000730                      3.196043   \n",
              "10025                             2.772158                      3.229917   \n",
              "10029                             0.000000                      2.346616   \n",
              "10031                             2.535716                      3.120999   \n",
              "10036                             3.716767                      2.271742   \n",
              "\n",
              "           C01879_5-Oxoproline  C02378_6-Aminohexanoate  \\\n",
              "Sample ID                                                 \n",
              "10023                 4.321721                 0.000000   \n",
              "10025                 5.143740                 0.000000   \n",
              "10029                 5.392691                 2.511281   \n",
              "10031                 4.679146                 0.000000   \n",
              "10036                 4.723737                 0.000000   \n",
              "\n",
              "           C06103_6-Hydroxyhexanoate  C01020_6-Hydroxynicotinate  \\\n",
              "Sample ID                                                          \n",
              "10023                            0.0                         0.0   \n",
              "10025                            0.0                         0.0   \n",
              "10029                            0.0                         0.0   \n",
              "10031                            0.0                         0.0   \n",
              "10036                            0.0                         0.0   \n",
              "\n",
              "           C08434_6-Methylaminopurine  C02953_7,8-Dihydrobiopterin  \\\n",
              "Sample ID                                                            \n",
              "10023                             0.0                     1.290214   \n",
              "10025                             0.0                     2.751319   \n",
              "10029                             0.0                     0.000000   \n",
              "10031                             0.0                     3.267578   \n",
              "10036                             0.0                     0.000000   \n",
              "\n",
              "           C04874_7,8-Dihydroneopterin  C02242_7-Methylguanine  \n",
              "Sample ID                                                       \n",
              "10023                          0.00000                4.452146  \n",
              "10025                          0.00000                4.411868  \n",
              "10029                          2.82316                4.442370  \n",
              "10031                          0.00000                4.385342  \n",
              "10036                          0.00000                3.823966  \n",
              "\n",
              "[5 rows x 458 columns]"
            ],
            "text/html": [
              "\n",
              "  <div id=\"df-6071d2ec-d832-4199-8b18-9e9930526ede\">\n",
              "    <div class=\"colab-df-container\">\n",
              "      <div>\n",
              "<style scoped>\n",
              "    .dataframe tbody tr th:only-of-type {\n",
              "        vertical-align: middle;\n",
              "    }\n",
              "\n",
              "    .dataframe tbody tr th {\n",
              "        vertical-align: top;\n",
              "    }\n",
              "\n",
              "    .dataframe thead th {\n",
              "        text-align: right;\n",
              "    }\n",
              "</style>\n",
              "<table border=\"1\" class=\"dataframe\">\n",
              "  <thead>\n",
              "    <tr style=\"text-align: right;\">\n",
              "      <th></th>\n",
              "      <th>Group</th>\n",
              "      <th>Stage</th>\n",
              "      <th>Age</th>\n",
              "      <th>Gender</th>\n",
              "      <th>BMI</th>\n",
              "      <th>Brinkman Index</th>\n",
              "      <th>Alcohol</th>\n",
              "      <th>Tumor location</th>\n",
              "      <th>C00024_Acetyl CoA</th>\n",
              "      <th>C01996_Acetylcholine</th>\n",
              "      <th>...</th>\n",
              "      <th>C00440_5-Methyltetrahydrofolate</th>\n",
              "      <th>C00170_5-Methylthioadenosine</th>\n",
              "      <th>C01879_5-Oxoproline</th>\n",
              "      <th>C02378_6-Aminohexanoate</th>\n",
              "      <th>C06103_6-Hydroxyhexanoate</th>\n",
              "      <th>C01020_6-Hydroxynicotinate</th>\n",
              "      <th>C08434_6-Methylaminopurine</th>\n",
              "      <th>C02953_7,8-Dihydrobiopterin</th>\n",
              "      <th>C04874_7,8-Dihydroneopterin</th>\n",
              "      <th>C02242_7-Methylguanine</th>\n",
              "    </tr>\n",
              "    <tr>\n",
              "      <th>Sample ID</th>\n",
              "      <th></th>\n",
              "      <th></th>\n",
              "      <th></th>\n",
              "      <th></th>\n",
              "      <th></th>\n",
              "      <th></th>\n",
              "      <th></th>\n",
              "      <th></th>\n",
              "      <th></th>\n",
              "      <th></th>\n",
              "      <th></th>\n",
              "      <th></th>\n",
              "      <th></th>\n",
              "      <th></th>\n",
              "      <th></th>\n",
              "      <th></th>\n",
              "      <th></th>\n",
              "      <th></th>\n",
              "      <th></th>\n",
              "      <th></th>\n",
              "      <th></th>\n",
              "    </tr>\n",
              "  </thead>\n",
              "  <tbody>\n",
              "    <tr>\n",
              "      <th>10023</th>\n",
              "      <td>Healthy</td>\n",
              "      <td>-</td>\n",
              "      <td>65</td>\n",
              "      <td>M</td>\n",
              "      <td>26.562500</td>\n",
              "      <td>660.0</td>\n",
              "      <td>0.0</td>\n",
              "      <td>-</td>\n",
              "      <td>0.000000</td>\n",
              "      <td>1.036026</td>\n",
              "      <td>...</td>\n",
              "      <td>3.000730</td>\n",
              "      <td>3.196043</td>\n",
              "      <td>4.321721</td>\n",
              "      <td>0.000000</td>\n",
              "      <td>0.0</td>\n",
              "      <td>0.0</td>\n",
              "      <td>0.0</td>\n",
              "      <td>1.290214</td>\n",
              "      <td>0.00000</td>\n",
              "      <td>4.452146</td>\n",
              "    </tr>\n",
              "    <tr>\n",
              "      <th>10025</th>\n",
              "      <td>Healthy</td>\n",
              "      <td>-</td>\n",
              "      <td>40</td>\n",
              "      <td>M</td>\n",
              "      <td>25.000000</td>\n",
              "      <td>400.0</td>\n",
              "      <td>993.0</td>\n",
              "      <td>-</td>\n",
              "      <td>4.501771</td>\n",
              "      <td>0.457927</td>\n",
              "      <td>...</td>\n",
              "      <td>2.772158</td>\n",
              "      <td>3.229917</td>\n",
              "      <td>5.143740</td>\n",
              "      <td>0.000000</td>\n",
              "      <td>0.0</td>\n",
              "      <td>0.0</td>\n",
              "      <td>0.0</td>\n",
              "      <td>2.751319</td>\n",
              "      <td>0.00000</td>\n",
              "      <td>4.411868</td>\n",
              "    </tr>\n",
              "    <tr>\n",
              "      <th>10029</th>\n",
              "      <td>Healthy</td>\n",
              "      <td>-</td>\n",
              "      <td>67</td>\n",
              "      <td>F</td>\n",
              "      <td>20.173253</td>\n",
              "      <td>0.0</td>\n",
              "      <td>0.0</td>\n",
              "      <td>-</td>\n",
              "      <td>0.000000</td>\n",
              "      <td>-0.128546</td>\n",
              "      <td>...</td>\n",
              "      <td>0.000000</td>\n",
              "      <td>2.346616</td>\n",
              "      <td>5.392691</td>\n",
              "      <td>2.511281</td>\n",
              "      <td>0.0</td>\n",
              "      <td>0.0</td>\n",
              "      <td>0.0</td>\n",
              "      <td>0.000000</td>\n",
              "      <td>2.82316</td>\n",
              "      <td>4.442370</td>\n",
              "    </tr>\n",
              "    <tr>\n",
              "      <th>10031</th>\n",
              "      <td>Healthy</td>\n",
              "      <td>-</td>\n",
              "      <td>77</td>\n",
              "      <td>M</td>\n",
              "      <td>24.464602</td>\n",
              "      <td>300.0</td>\n",
              "      <td>813.0</td>\n",
              "      <td>-</td>\n",
              "      <td>3.646184</td>\n",
              "      <td>0.259788</td>\n",
              "      <td>...</td>\n",
              "      <td>2.535716</td>\n",
              "      <td>3.120999</td>\n",
              "      <td>4.679146</td>\n",
              "      <td>0.000000</td>\n",
              "      <td>0.0</td>\n",
              "      <td>0.0</td>\n",
              "      <td>0.0</td>\n",
              "      <td>3.267578</td>\n",
              "      <td>0.00000</td>\n",
              "      <td>4.385342</td>\n",
              "    </tr>\n",
              "    <tr>\n",
              "      <th>10036</th>\n",
              "      <td>Healthy</td>\n",
              "      <td>-</td>\n",
              "      <td>64</td>\n",
              "      <td>F</td>\n",
              "      <td>21.155294</td>\n",
              "      <td>0.0</td>\n",
              "      <td>0.0</td>\n",
              "      <td>-</td>\n",
              "      <td>0.000000</td>\n",
              "      <td>1.296258</td>\n",
              "      <td>...</td>\n",
              "      <td>3.716767</td>\n",
              "      <td>2.271742</td>\n",
              "      <td>4.723737</td>\n",
              "      <td>0.000000</td>\n",
              "      <td>0.0</td>\n",
              "      <td>0.0</td>\n",
              "      <td>0.0</td>\n",
              "      <td>0.000000</td>\n",
              "      <td>0.00000</td>\n",
              "      <td>3.823966</td>\n",
              "    </tr>\n",
              "  </tbody>\n",
              "</table>\n",
              "<p>5 rows × 458 columns</p>\n",
              "</div>\n",
              "      <button class=\"colab-df-convert\" onclick=\"convertToInteractive('df-6071d2ec-d832-4199-8b18-9e9930526ede')\"\n",
              "              title=\"Convert this dataframe to an interactive table.\"\n",
              "              style=\"display:none;\">\n",
              "        \n",
              "  <svg xmlns=\"http://www.w3.org/2000/svg\" height=\"24px\"viewBox=\"0 0 24 24\"\n",
              "       width=\"24px\">\n",
              "    <path d=\"M0 0h24v24H0V0z\" fill=\"none\"/>\n",
              "    <path d=\"M18.56 5.44l.94 2.06.94-2.06 2.06-.94-2.06-.94-.94-2.06-.94 2.06-2.06.94zm-11 1L8.5 8.5l.94-2.06 2.06-.94-2.06-.94L8.5 2.5l-.94 2.06-2.06.94zm10 10l.94 2.06.94-2.06 2.06-.94-2.06-.94-.94-2.06-.94 2.06-2.06.94z\"/><path d=\"M17.41 7.96l-1.37-1.37c-.4-.4-.92-.59-1.43-.59-.52 0-1.04.2-1.43.59L10.3 9.45l-7.72 7.72c-.78.78-.78 2.05 0 2.83L4 21.41c.39.39.9.59 1.41.59.51 0 1.02-.2 1.41-.59l7.78-7.78 2.81-2.81c.8-.78.8-2.07 0-2.86zM5.41 20L4 18.59l7.72-7.72 1.47 1.35L5.41 20z\"/>\n",
              "  </svg>\n",
              "      </button>\n",
              "      \n",
              "  <style>\n",
              "    .colab-df-container {\n",
              "      display:flex;\n",
              "      flex-wrap:wrap;\n",
              "      gap: 12px;\n",
              "    }\n",
              "\n",
              "    .colab-df-convert {\n",
              "      background-color: #E8F0FE;\n",
              "      border: none;\n",
              "      border-radius: 50%;\n",
              "      cursor: pointer;\n",
              "      display: none;\n",
              "      fill: #1967D2;\n",
              "      height: 32px;\n",
              "      padding: 0 0 0 0;\n",
              "      width: 32px;\n",
              "    }\n",
              "\n",
              "    .colab-df-convert:hover {\n",
              "      background-color: #E2EBFA;\n",
              "      box-shadow: 0px 1px 2px rgba(60, 64, 67, 0.3), 0px 1px 3px 1px rgba(60, 64, 67, 0.15);\n",
              "      fill: #174EA6;\n",
              "    }\n",
              "\n",
              "    [theme=dark] .colab-df-convert {\n",
              "      background-color: #3B4455;\n",
              "      fill: #D2E3FC;\n",
              "    }\n",
              "\n",
              "    [theme=dark] .colab-df-convert:hover {\n",
              "      background-color: #434B5C;\n",
              "      box-shadow: 0px 1px 3px 1px rgba(0, 0, 0, 0.15);\n",
              "      filter: drop-shadow(0px 1px 2px rgba(0, 0, 0, 0.3));\n",
              "      fill: #FFFFFF;\n",
              "    }\n",
              "  </style>\n",
              "\n",
              "      <script>\n",
              "        const buttonEl =\n",
              "          document.querySelector('#df-6071d2ec-d832-4199-8b18-9e9930526ede button.colab-df-convert');\n",
              "        buttonEl.style.display =\n",
              "          google.colab.kernel.accessAllowed ? 'block' : 'none';\n",
              "\n",
              "        async function convertToInteractive(key) {\n",
              "          const element = document.querySelector('#df-6071d2ec-d832-4199-8b18-9e9930526ede');\n",
              "          const dataTable =\n",
              "            await google.colab.kernel.invokeFunction('convertToInteractive',\n",
              "                                                     [key], {});\n",
              "          if (!dataTable) return;\n",
              "\n",
              "          const docLinkHtml = 'Like what you see? Visit the ' +\n",
              "            '<a target=\"_blank\" href=https://colab.research.google.com/notebooks/data_table.ipynb>data table notebook</a>'\n",
              "            + ' to learn more about interactive tables.';\n",
              "          element.innerHTML = '';\n",
              "          dataTable['output_type'] = 'display_data';\n",
              "          await google.colab.output.renderOutput(dataTable, element);\n",
              "          const docLink = document.createElement('div');\n",
              "          docLink.innerHTML = docLinkHtml;\n",
              "          element.appendChild(docLink);\n",
              "        }\n",
              "      </script>\n",
              "    </div>\n",
              "  </div>\n",
              "  "
            ]
          },
          "metadata": {},
          "execution_count": 3
        }
      ]
    },
    {
      "cell_type": "code",
      "metadata": {
        "id": "f8e3a18c-af55-4c2a-a582-81e6d1f66c0f",
        "colab": {
          "base_uri": "https://localhost:8080/"
        },
        "outputId": "ee76861b-972c-49a1-b676-e36082c09ed5"
      },
      "source": [
        "metabolites.shape"
      ],
      "id": "f8e3a18c-af55-4c2a-a582-81e6d1f66c0f",
      "execution_count": null,
      "outputs": [
        {
          "output_type": "execute_result",
          "data": {
            "text/plain": [
              "(406, 458)"
            ]
          },
          "metadata": {},
          "execution_count": 4
        }
      ]
    },
    {
      "cell_type": "markdown",
      "metadata": {
        "id": "efe77301-b9fc-451a-988e-bc4ca7b2f01b"
      },
      "source": [
        "# Exploratory Data Analysis"
      ],
      "id": "efe77301-b9fc-451a-988e-bc4ca7b2f01b"
    },
    {
      "cell_type": "markdown",
      "metadata": {
        "id": "c606ea30-9bb3-48ec-bedc-ae308c239942"
      },
      "source": [
        "## Categorical variables"
      ],
      "id": "c606ea30-9bb3-48ec-bedc-ae308c239942"
    },
    {
      "cell_type": "code",
      "metadata": {
        "id": "012c1efe-6826-49d3-ad4e-35d69095ef2c",
        "colab": {
          "base_uri": "https://localhost:8080/"
        },
        "outputId": "7067bbc4-1047-46b3-82d0-b8ca61934982"
      },
      "source": [
        "metabolites['Group'].value_counts()"
      ],
      "id": "012c1efe-6826-49d3-ad4e-35d69095ef2c",
      "execution_count": null,
      "outputs": [
        {
          "output_type": "execute_result",
          "data": {
            "text/plain": [
              "Healthy         149\n",
              "Stage_I_II       80\n",
              "Stage_III_IV     68\n",
              "MP               45\n",
              "HS               34\n",
              "Stage_0          30\n",
              "Name: Group, dtype: int64"
            ]
          },
          "metadata": {},
          "execution_count": 5
        }
      ]
    },
    {
      "cell_type": "code",
      "metadata": {
        "id": "c0a026e6-be6c-41e9-9c33-3c1f61dd2ff9",
        "colab": {
          "base_uri": "https://localhost:8080/",
          "height": 282
        },
        "outputId": "3577d63f-6517-498a-afab-976bbbf0a147"
      },
      "source": [
        "metabolites['Group'].value_counts().plot(kind='barh')"
      ],
      "id": "c0a026e6-be6c-41e9-9c33-3c1f61dd2ff9",
      "execution_count": null,
      "outputs": [
        {
          "output_type": "execute_result",
          "data": {
            "text/plain": [
              "<matplotlib.axes._subplots.AxesSubplot at 0x7f896b95ec40>"
            ]
          },
          "metadata": {},
          "execution_count": 8
        },
        {
          "output_type": "display_data",
          "data": {
            "text/plain": [
              "<Figure size 432x288 with 1 Axes>"
            ],
            "image/png": "[encoded data removed]"
          },
          "metadata": {
            "needs_background": "light"
          }
        }
      ]
    },
    {
      "cell_type": "code",
      "metadata": {
        "id": "31b43c59-e33f-4ad7-881e-daacd126b713",
        "colab": {
          "base_uri": "https://localhost:8080/",
          "height": 296
        },
        "outputId": "a89edb9c-4ab6-44f8-c49b-b6b3fef1ff09"
      },
      "source": [
        "sns.countplot(\n",
        "    data=metabolites,\n",
        "    y='Group',\n",
        ")"
      ],
      "id": "31b43c59-e33f-4ad7-881e-daacd126b713",
      "execution_count": null,
      "outputs": [
        {
          "output_type": "execute_result",
          "data": {
            "text/plain": [
              "<matplotlib.axes._subplots.AxesSubplot at 0x7f896ad9bc70>"
            ]
          },
          "metadata": {},
          "execution_count": 11
        },
        {
          "output_type": "display_data",
          "data": {
            "text/plain": [
              "<Figure size 432x288 with 1 Axes>"
            ],
            "image/png": "[encoded data removed]"
          },
          "metadata": {
            "needs_background": "light"
          }
        }
      ]
    },
    {
      "cell_type": "markdown",
      "metadata": {
        "id": "7523444f-c74e-4227-84e1-43bffbd2f053"
      },
      "source": [
        "## Continuous variables"
      ],
      "id": "7523444f-c74e-4227-84e1-43bffbd2f053"
    },
    {
      "cell_type": "code",
      "metadata": {
        "id": "c367727f-a522-4290-bc69-6f2eed9ad6f4",
        "colab": {
          "base_uri": "https://localhost:8080/"
        },
        "outputId": "396b10e5-0570-4f0c-a1d0-645510a5df4a"
      },
      "source": [
        "metabolites['Age'].value_counts().head()"
      ],
      "id": "c367727f-a522-4290-bc69-6f2eed9ad6f4",
      "execution_count": null,
      "outputs": [
        {
          "output_type": "execute_result",
          "data": {
            "text/plain": [
              "69    22\n",
              "70    20\n",
              "73    20\n",
              "64    19\n",
              "66    18\n",
              "Name: Age, dtype: int64"
            ]
          },
          "metadata": {},
          "execution_count": 12
        }
      ]
    },
    {
      "cell_type": "code",
      "metadata": {
        "id": "1e7ee727-e6d6-4acd-ae28-ea3d35ee43a6",
        "colab": {
          "base_uri": "https://localhost:8080/",
          "height": 282
        },
        "outputId": "32e8718e-60f8-4af9-911e-48eae9ccb279"
      },
      "source": [
        "metabolites['Age'].plot(kind='hist')"
      ],
      "id": "1e7ee727-e6d6-4acd-ae28-ea3d35ee43a6",
      "execution_count": null,
      "outputs": [
        {
          "output_type": "execute_result",
          "data": {
            "text/plain": [
              "<matplotlib.axes._subplots.AxesSubplot at 0x7f896b8add90>"
            ]
          },
          "metadata": {},
          "execution_count": 13
        },
        {
          "output_type": "display_data",
          "data": {
            "text/plain": [
              "<Figure size 432x288 with 1 Axes>"
            ],
            "image/png": "[encoded data removed]"
          },
          "metadata": {
            "needs_background": "light"
          }
        }
      ]
    },
    {
      "cell_type": "code",
      "metadata": {
        "id": "f900e674-e6ad-40dc-ac7d-da94c545517c",
        "colab": {
          "base_uri": "https://localhost:8080/",
          "height": 312
        },
        "outputId": "63599d69-ee27-4234-dc44-1dfac7be5832"
      },
      "source": [
        "ax = sns.histplot(\n",
        "    data=metabolites,\n",
        "    x='Age',\n",
        ")\n",
        "\n",
        "ax.set_title('Age')"
      ],
      "id": "f900e674-e6ad-40dc-ac7d-da94c545517c",
      "execution_count": null,
      "outputs": [
        {
          "output_type": "execute_result",
          "data": {
            "text/plain": [
              "Text(0.5, 1.0, 'Age')"
            ]
          },
          "metadata": {},
          "execution_count": 14
        },
        {
          "output_type": "display_data",
          "data": {
            "text/plain": [
              "<Figure size 432x288 with 1 Axes>"
            ],
            "image/png": "[encoded data removed]"
          },
          "metadata": {
            "needs_background": "light"
          }
        }
      ]
    },
    {
      "cell_type": "markdown",
      "metadata": {
        "id": "d35b3a12-58f1-4243-9d16-036b0f2d985e"
      },
      "source": [
        "## $\\color{purple}{\\text{Exercise 1}}$\n",
        "\n",
        "1. Create a FOR loop that plots `countplots` for all discrete variables (`Group`, `Stage`, `Gender`, `Tumor location`). Set a title for every plot.\n",
        "2. Create a FOR loop that plots histograms for some of continuous variables (e.g. `Age`, `BMI`, `Brinkman Index`, `Alcohol`, `C00008_ADP`). Set a title for every plot.\n",
        "\n",
        "*hint: use plt.show() at the end of each iteration to actually plot to notebook*\n",
        "\n",
        "[5 min]"
      ],
      "id": "d35b3a12-58f1-4243-9d16-036b0f2d985e"
    },
    {
      "cell_type": "code",
      "metadata": {
        "id": "b0dd044d-f144-4487-950f-e0eb12923ef9",
        "colab": {
          "base_uri": "https://localhost:8080/",
          "height": 1000
        },
        "outputId": "030922f8-242c-4712-ef4f-8a9f29a93c5a"
      },
      "source": [
        "# Your code goes here:\n",
        "columns = [\"Group\", \"Stage\", \"Gender\", \"Tumor location\"]\n",
        "for i in columns:\n",
        "    sns.countplot(\n",
        "        data=metabolites,\n",
        "        y=i,\n",
        ")\n",
        "    plt.show()"
      ],
      "id": "b0dd044d-f144-4487-950f-e0eb12923ef9",
      "execution_count": null,
      "outputs": [
        {
          "output_type": "display_data",
          "data": {
            "text/plain": [
              "<Figure size 432x288 with 1 Axes>"
            ],
            "image/png": "[encoded data removed]"
          },
          "metadata": {
            "needs_background": "light"
          }
        },
        {
          "output_type": "display_data",
          "data": {
            "text/plain": [
              "<Figure size 432x288 with 1 Axes>"
            ],
            "image/png": "[encoded data removed]"
          },
          "metadata": {
            "needs_background": "light"
          }
        },
        {
          "output_type": "display_data",
          "data": {
            "text/plain": [
              "<Figure size 432x288 with 1 Axes>"
            ],
            "image/png": "[encoded data removed]"
          },
          "metadata": {
            "needs_background": "light"
          }
        },
        {
          "output_type": "display_data",
          "data": {
            "text/plain": [
              "<Figure size 432x288 with 1 Axes>"
            ],
            "image/png": "[encoded data removed]"
          },
          "metadata": {
            "needs_background": "light"
          }
        }
      ]
    },
    {
      "cell_type": "code",
      "metadata": {
        "id": "9085bb24-7e27-4566-8000-b728de6ab1fa",
        "colab": {
          "base_uri": "https://localhost:8080/",
          "height": 1000
        },
        "outputId": "19633c9e-dd0a-47e1-a798-7fc1a32c8a69"
      },
      "source": [
        "# Your code goes here:\n",
        "values = [\"Age\", \"BMI\", \"Brinkman Index\", \"Alcohol\", \"C00008_ADP\"]\n",
        "for i in columns:\n",
        "    ax = sns.histplot(\n",
        "    data=metabolites,\n",
        "    x=i,\n",
        ")\n",
        "    ax.set_title(i)\n",
        "    \n",
        "\n",
        "\n",
        "    plt.show()"
      ],
      "id": "9085bb24-7e27-4566-8000-b728de6ab1fa",
      "execution_count": null,
      "outputs": [
        {
          "output_type": "display_data",
          "data": {
            "text/plain": [
              "<Figure size 432x288 with 1 Axes>"
            ],
            "image/png": "[encoded data removed]"
          },
          "metadata": {
            "needs_background": "light"
          }
        },
        {
          "output_type": "display_data",
          "data": {
            "text/plain": [
              "<Figure size 432x288 with 1 Axes>"
            ],
            "image/png": "[encoded data removed]"
          },
          "metadata": {
            "needs_background": "light"
          }
        },
        {
          "output_type": "display_data",
          "data": {
            "text/plain": [
              "<Figure size 432x288 with 1 Axes>"
            ],
            "image/png": "[encoded data removed]"
          },
          "metadata": {
            "needs_background": "light"
          }
        },
        {
          "output_type": "display_data",
          "data": {
            "text/plain": [
              "<Figure size 432x288 with 1 Axes>"
            ],
            "image/png": "[encoded data removed]"
          },
          "metadata": {
            "needs_background": "light"
          }
        }
      ]
    },
    {
      "cell_type": "markdown",
      "metadata": {
        "id": "c43dbd34-6238-40b9-b647-c203acc2a14e"
      },
      "source": [
        "## Relations between variables"
      ],
      "id": "c43dbd34-6238-40b9-b647-c203acc2a14e"
    },
    {
      "cell_type": "markdown",
      "metadata": {
        "id": "7834f2ba-6c1c-4746-a82e-3ca89821c2d8"
      },
      "source": [
        "### **Discrete** - **Discrete** pairs"
      ],
      "id": "7834f2ba-6c1c-4746-a82e-3ca89821c2d8"
    },
    {
      "cell_type": "code",
      "metadata": {
        "id": "20372656-6556-418f-82ef-5f45330a7474",
        "colab": {
          "base_uri": "https://localhost:8080/",
          "height": 269
        },
        "outputId": "bbd0721a-4207-4861-b651-0712292ca5e4"
      },
      "source": [
        "metabolites.groupby('Gender')['Tumor location'].value_counts().unstack(0)"
      ],
      "id": "20372656-6556-418f-82ef-5f45330a7474",
      "execution_count": null,
      "outputs": [
        {
          "output_type": "execute_result",
          "data": {
            "text/plain": [
              "Gender                                 F      M\n",
              "Tumor location                                 \n",
              "-                                   91.0  137.0\n",
              "Left colon                          16.0   20.0\n",
              "Left colon and Right colon           1.0    3.0\n",
              "Rectum                              30.0   52.0\n",
              "Rectum, Left colon and Right colon   NaN    1.0\n",
              "Right colon                         28.0   27.0"
            ],
            "text/html": [
              "\n",
              "  <div id=\"df-12a90d98-037d-4f07-b391-df2608c58af2\">\n",
              "    <div class=\"colab-df-container\">\n",
              "      <div>\n",
              "<style scoped>\n",
              "    .dataframe tbody tr th:only-of-type {\n",
              "        vertical-align: middle;\n",
              "    }\n",
              "\n",
              "    .dataframe tbody tr th {\n",
              "        vertical-align: top;\n",
              "    }\n",
              "\n",
              "    .dataframe thead th {\n",
              "        text-align: right;\n",
              "    }\n",
              "</style>\n",
              "<table border=\"1\" class=\"dataframe\">\n",
              "  <thead>\n",
              "    <tr style=\"text-align: right;\">\n",
              "      <th>Gender</th>\n",
              "      <th>F</th>\n",
              "      <th>M</th>\n",
              "    </tr>\n",
              "    <tr>\n",
              "      <th>Tumor location</th>\n",
              "      <th></th>\n",
              "      <th></th>\n",
              "    </tr>\n",
              "  </thead>\n",
              "  <tbody>\n",
              "    <tr>\n",
              "      <th>-</th>\n",
              "      <td>91.0</td>\n",
              "      <td>137.0</td>\n",
              "    </tr>\n",
              "    <tr>\n",
              "      <th>Left colon</th>\n",
              "      <td>16.0</td>\n",
              "      <td>20.0</td>\n",
              "    </tr>\n",
              "    <tr>\n",
              "      <th>Left colon and Right colon</th>\n",
              "      <td>1.0</td>\n",
              "      <td>3.0</td>\n",
              "    </tr>\n",
              "    <tr>\n",
              "      <th>Rectum</th>\n",
              "      <td>30.0</td>\n",
              "      <td>52.0</td>\n",
              "    </tr>\n",
              "    <tr>\n",
              "      <th>Rectum, Left colon and Right colon</th>\n",
              "      <td>NaN</td>\n",
              "      <td>1.0</td>\n",
              "    </tr>\n",
              "    <tr>\n",
              "      <th>Right colon</th>\n",
              "      <td>28.0</td>\n",
              "      <td>27.0</td>\n",
              "    </tr>\n",
              "  </tbody>\n",
              "</table>\n",
              "</div>\n",
              "      <button class=\"colab-df-convert\" onclick=\"convertToInteractive('df-12a90d98-037d-4f07-b391-df2608c58af2')\"\n",
              "              title=\"Convert this dataframe to an interactive table.\"\n",
              "              style=\"display:none;\">\n",
              "        \n",
              "  <svg xmlns=\"http://www.w3.org/2000/svg\" height=\"24px\"viewBox=\"0 0 24 24\"\n",
              "       width=\"24px\">\n",
              "    <path d=\"M0 0h24v24H0V0z\" fill=\"none\"/>\n",
              "    <path d=\"M18.56 5.44l.94 2.06.94-2.06 2.06-.94-2.06-.94-.94-2.06-.94 2.06-2.06.94zm-11 1L8.5 8.5l.94-2.06 2.06-.94-2.06-.94L8.5 2.5l-.94 2.06-2.06.94zm10 10l.94 2.06.94-2.06 2.06-.94-2.06-.94-.94-2.06-.94 2.06-2.06.94z\"/><path d=\"M17.41 7.96l-1.37-1.37c-.4-.4-.92-.59-1.43-.59-.52 0-1.04.2-1.43.59L10.3 9.45l-7.72 7.72c-.78.78-.78 2.05 0 2.83L4 21.41c.39.39.9.59 1.41.59.51 0 1.02-.2 1.41-.59l7.78-7.78 2.81-2.81c.8-.78.8-2.07 0-2.86zM5.41 20L4 18.59l7.72-7.72 1.47 1.35L5.41 20z\"/>\n",
              "  </svg>\n",
              "      </button>\n",
              "      \n",
              "  <style>\n",
              "    .colab-df-container {\n",
              "      display:flex;\n",
              "      flex-wrap:wrap;\n",
              "      gap: 12px;\n",
              "    }\n",
              "\n",
              "    .colab-df-convert {\n",
              "      background-color: #E8F0FE;\n",
              "      border: none;\n",
              "      border-radius: 50%;\n",
              "      cursor: pointer;\n",
              "      display: none;\n",
              "      fill: #1967D2;\n",
              "      height: 32px;\n",
              "      padding: 0 0 0 0;\n",
              "      width: 32px;\n",
              "    }\n",
              "\n",
              "    .colab-df-convert:hover {\n",
              "      background-color: #E2EBFA;\n",
              "      box-shadow: 0px 1px 2px rgba(60, 64, 67, 0.3), 0px 1px 3px 1px rgba(60, 64, 67, 0.15);\n",
              "      fill: #174EA6;\n",
              "    }\n",
              "\n",
              "    [theme=dark] .colab-df-convert {\n",
              "      background-color: #3B4455;\n",
              "      fill: #D2E3FC;\n",
              "    }\n",
              "\n",
              "    [theme=dark] .colab-df-convert:hover {\n",
              "      background-color: #434B5C;\n",
              "      box-shadow: 0px 1px 3px 1px rgba(0, 0, 0, 0.15);\n",
              "      filter: drop-shadow(0px 1px 2px rgba(0, 0, 0, 0.3));\n",
              "      fill: #FFFFFF;\n",
              "    }\n",
              "  </style>\n",
              "\n",
              "      <script>\n",
              "        const buttonEl =\n",
              "          document.querySelector('#df-12a90d98-037d-4f07-b391-df2608c58af2 button.colab-df-convert');\n",
              "        buttonEl.style.display =\n",
              "          google.colab.kernel.accessAllowed ? 'block' : 'none';\n",
              "\n",
              "        async function convertToInteractive(key) {\n",
              "          const element = document.querySelector('#df-12a90d98-037d-4f07-b391-df2608c58af2');\n",
              "          const dataTable =\n",
              "            await google.colab.kernel.invokeFunction('convertToInteractive',\n",
              "                                                     [key], {});\n",
              "          if (!dataTable) return;\n",
              "\n",
              "          const docLinkHtml = 'Like what you see? Visit the ' +\n",
              "            '<a target=\"_blank\" href=https://colab.research.google.com/notebooks/data_table.ipynb>data table notebook</a>'\n",
              "            + ' to learn more about interactive tables.';\n",
              "          element.innerHTML = '';\n",
              "          dataTable['output_type'] = 'display_data';\n",
              "          await google.colab.output.renderOutput(dataTable, element);\n",
              "          const docLink = document.createElement('div');\n",
              "          docLink.innerHTML = docLinkHtml;\n",
              "          element.appendChild(docLink);\n",
              "        }\n",
              "      </script>\n",
              "    </div>\n",
              "  </div>\n",
              "  "
            ]
          },
          "metadata": {},
          "execution_count": 25
        }
      ]
    },
    {
      "cell_type": "code",
      "metadata": {
        "id": "2719af38-45a6-4753-b004-216138089e26",
        "colab": {
          "base_uri": "https://localhost:8080/",
          "height": 296
        },
        "outputId": "b7bc25ac-6fc0-47b0-9078-da6d49ef08be"
      },
      "source": [
        "sns.countplot(\n",
        "    data=metabolites,\n",
        "    y='Tumor location',\n",
        "    hue='Gender'\n",
        ")"
      ],
      "id": "2719af38-45a6-4753-b004-216138089e26",
      "execution_count": null,
      "outputs": [
        {
          "output_type": "execute_result",
          "data": {
            "text/plain": [
              "<matplotlib.axes._subplots.AxesSubplot at 0x7f896a596100>"
            ]
          },
          "metadata": {},
          "execution_count": 26
        },
        {
          "output_type": "display_data",
          "data": {
            "text/plain": [
              "<Figure size 432x288 with 1 Axes>"
            ],
            "image/png": "[encoded data removed]"
          },
          "metadata": {
            "needs_background": "light"
          }
        }
      ]
    },
    {
      "cell_type": "markdown",
      "metadata": {
        "id": "002a4242-3d28-458e-bcfc-cf7cc89e5042"
      },
      "source": [
        "### **Discrete** - *Continuous* pairs"
      ],
      "id": "002a4242-3d28-458e-bcfc-cf7cc89e5042"
    },
    {
      "cell_type": "code",
      "metadata": {
        "id": "ed60c7dd-823a-4db5-9da0-18c288f229e6",
        "colab": {
          "base_uri": "https://localhost:8080/",
          "height": 297
        },
        "outputId": "bbf679d9-dd9a-4a0a-8972-980e7bc2f5c3"
      },
      "source": [
        "sns.boxplot(\n",
        "    data=metabolites,\n",
        "    y='Age',\n",
        "    x='Group'\n",
        ")"
      ],
      "id": "ed60c7dd-823a-4db5-9da0-18c288f229e6",
      "execution_count": null,
      "outputs": [
        {
          "output_type": "execute_result",
          "data": {
            "text/plain": [
              "<matplotlib.axes._subplots.AxesSubplot at 0x7f896ac09ca0>"
            ]
          },
          "metadata": {},
          "execution_count": 27
        },
        {
          "output_type": "display_data",
          "data": {
            "text/plain": [
              "<Figure size 432x288 with 1 Axes>"
            ],
            "image/png": "[encoded data removed]"
          },
          "metadata": {
            "needs_background": "light"
          }
        }
      ]
    },
    {
      "cell_type": "code",
      "metadata": {
        "id": "56ef6847-2332-4be8-8abd-e3abb27797c9",
        "colab": {
          "base_uri": "https://localhost:8080/",
          "height": 296
        },
        "outputId": "8eca8b29-ee7b-44e8-c8c8-17c917e01b80"
      },
      "source": [
        "sns.boxplot(\n",
        "    data=metabolites,\n",
        "    y='Alcohol',\n",
        "    x='Gender'\n",
        ")"
      ],
      "id": "56ef6847-2332-4be8-8abd-e3abb27797c9",
      "execution_count": null,
      "outputs": [
        {
          "output_type": "execute_result",
          "data": {
            "text/plain": [
              "<matplotlib.axes._subplots.AxesSubplot at 0x7f896a4cc760>"
            ]
          },
          "metadata": {},
          "execution_count": 28
        },
        {
          "output_type": "display_data",
          "data": {
            "text/plain": [
              "<Figure size 432x288 with 1 Axes>"
            ],
            "image/png": "[encoded data removed]"
          },
          "metadata": {
            "needs_background": "light"
          }
        }
      ]
    },
    {
      "cell_type": "code",
      "metadata": {
        "id": "0f64277f-cdb6-4efb-af9d-e116d28ce333",
        "colab": {
          "base_uri": "https://localhost:8080/",
          "height": 297
        },
        "outputId": "0638c2d7-357d-4c46-8090-07457f261893"
      },
      "source": [
        "sns.boxplot(\n",
        "    data=metabolites,\n",
        "    y='Age',\n",
        "    x='Group',\n",
        "    hue='Gender'\n",
        ")"
      ],
      "id": "0f64277f-cdb6-4efb-af9d-e116d28ce333",
      "execution_count": null,
      "outputs": [
        {
          "output_type": "execute_result",
          "data": {
            "text/plain": [
              "<matplotlib.axes._subplots.AxesSubplot at 0x7f896a68ee80>"
            ]
          },
          "metadata": {},
          "execution_count": 29
        },
        {
          "output_type": "display_data",
          "data": {
            "text/plain": [
              "<Figure size 432x288 with 1 Axes>"
            ],
            "image/png": "[encoded data removed]"
          },
          "metadata": {
            "needs_background": "light"
          }
        }
      ]
    },
    {
      "cell_type": "markdown",
      "metadata": {
        "id": "f1872670-3053-4cc2-ba28-7edc16c428db"
      },
      "source": [
        "### *Continuous* - *Continuous* pairs"
      ],
      "id": "f1872670-3053-4cc2-ba28-7edc16c428db"
    },
    {
      "cell_type": "code",
      "metadata": {
        "id": "7b192233-ff3b-4d1a-a7ea-4736b1abacd1",
        "colab": {
          "base_uri": "https://localhost:8080/",
          "height": 296
        },
        "outputId": "011ce381-63a3-4f7d-e000-e6cb4ab39403"
      },
      "source": [
        "metabolites.plot(kind='scatter', x='Brinkman Index', y='Alcohol')"
      ],
      "id": "7b192233-ff3b-4d1a-a7ea-4736b1abacd1",
      "execution_count": null,
      "outputs": [
        {
          "output_type": "execute_result",
          "data": {
            "text/plain": [
              "<matplotlib.axes._subplots.AxesSubplot at 0x7f896a49caf0>"
            ]
          },
          "metadata": {},
          "execution_count": 30
        },
        {
          "output_type": "display_data",
          "data": {
            "text/plain": [
              "<Figure size 432x288 with 1 Axes>"
            ],
            "image/png": "[encoded data removed]"
          },
          "metadata": {
            "needs_background": "light"
          }
        }
      ]
    },
    {
      "cell_type": "code",
      "metadata": {
        "id": "e2583ae5-5493-4559-9ec0-17776e22e35f",
        "colab": {
          "base_uri": "https://localhost:8080/",
          "height": 296
        },
        "outputId": "e7ba2439-7bcd-4f67-d5bf-e0daf0ef2258"
      },
      "source": [
        "sns.scatterplot(\n",
        "    data=metabolites, \n",
        "    x='Brinkman Index', \n",
        "    y='Alcohol', \n",
        "    hue='Gender'\n",
        ")"
      ],
      "id": "e2583ae5-5493-4559-9ec0-17776e22e35f",
      "execution_count": null,
      "outputs": [
        {
          "output_type": "execute_result",
          "data": {
            "text/plain": [
              "<matplotlib.axes._subplots.AxesSubplot at 0x7f896a221490>"
            ]
          },
          "metadata": {},
          "execution_count": 32
        },
        {
          "output_type": "display_data",
          "data": {
            "text/plain": [
              "<Figure size 432x288 with 1 Axes>"
            ],
            "image/png": "[encoded data removed]"
          },
          "metadata": {
            "needs_background": "light"
          }
        }
      ]
    },
    {
      "cell_type": "markdown",
      "metadata": {
        "id": "be24f246-a91f-46b0-a29d-8e6d147c46b9"
      },
      "source": [
        "## $\\color{purple}{\\text{Exercise 2}}$\n",
        "\n",
        "Plot following:\n",
        "\n",
        "1. Countplot of `Tumor location` grouped by `Group` \n",
        "2. Boxplot with `BMI` grouped by `Gender`\n",
        "3. Scatterplot `BMI` vs. `Age` grouped by `Gender`\n",
        "4. Scatterplot of `C00581_Guanidinoacetate` and `3-Indoxyl sulfate` colored by `Gender`. Try using `sns.jointplot` instead of `sns.scatterplot` to add variable marginal distributions* \n",
        "\n",
        "Can we say more about the data with these plots?\n",
        "\n",
        "[5 min]"
      ],
      "id": "be24f246-a91f-46b0-a29d-8e6d147c46b9"
    },
    {
      "cell_type": "code",
      "source": [
        "# Your code goes here"
      ],
      "metadata": {
        "id": "aKf5J4fytwdu"
      },
      "id": "aKf5J4fytwdu",
      "execution_count": null,
      "outputs": []
    },
    {
      "cell_type": "markdown",
      "metadata": {
        "id": "e4d94b02-ed02-4415-9910-e412528f352c"
      },
      "source": [
        "# Multivariate Analysis with **Machine Learning**\n",
        "\n",
        "**The real problem:** how to find interesting relations between all metabolies & an outcome variable (e.g. Healthy vs. Disease)\n",
        "\n",
        "\n",
        "**Use case:** Find metabolites that differentiate people with late-stage CRC (3 or 4 stage) from the healthy control group. Those metabolites can lead to novel biomarkers or therapeutics.\n"
      ],
      "id": "e4d94b02-ed02-4415-9910-e412528f352c"
    },
    {
      "cell_type": "markdown",
      "metadata": {
        "id": "88da106f-5eb3-4d4b-84d8-e8ba3721d32e"
      },
      "source": [
        "## Prepare input data"
      ],
      "id": "88da106f-5eb3-4d4b-84d8-e8ba3721d32e"
    },
    {
      "cell_type": "markdown",
      "metadata": {
        "id": "31b52ef6-c97e-48c3-a3a0-2d8334741d41"
      },
      "source": [
        "Filter out samples that are not from `Healthy` nor `Stage_III_IV` groups."
      ],
      "id": "31b52ef6-c97e-48c3-a3a0-2d8334741d41"
    },
    {
      "cell_type": "code",
      "metadata": {
        "id": "39fd49ba-815b-49b5-80eb-c411dca95f1c"
      },
      "source": [
        "is_in_34_or_healthy = metabolites['Group'].isin(['Healthy', 'Stage_III_IV'])\n",
        "is_in_34_or_healthy"
      ],
      "id": "39fd49ba-815b-49b5-80eb-c411dca95f1c",
      "execution_count": null,
      "outputs": []
    },
    {
      "cell_type": "markdown",
      "metadata": {
        "id": "1dc70b67-23a4-43ee-a8b9-da79442200f4"
      },
      "source": [
        "Standard ML notation:\n",
        "  \n",
        "*X - features* <br>\n",
        "*y - target*"
      ],
      "id": "1dc70b67-23a4-43ee-a8b9-da79442200f4"
    },
    {
      "cell_type": "code",
      "metadata": {
        "id": "63eb40f3-fb03-45fb-a42e-50eafe91e0a4"
      },
      "source": [
        "X = metabolites[is_in_34_or_healthy].iloc[:, 8:]\n",
        "X.head()"
      ],
      "id": "63eb40f3-fb03-45fb-a42e-50eafe91e0a4",
      "execution_count": null,
      "outputs": []
    },
    {
      "cell_type": "code",
      "metadata": {
        "id": "801b7f91-6a04-4968-b5ac-0aba4ecd584a"
      },
      "source": [
        "y = metabolites[is_in_34_or_healthy]['Group']\n",
        "y.head()"
      ],
      "id": "801b7f91-6a04-4968-b5ac-0aba4ecd584a",
      "execution_count": null,
      "outputs": []
    },
    {
      "cell_type": "code",
      "metadata": {
        "id": "08bd7924-6cf0-46f3-8fd1-c4258876f635"
      },
      "source": [
        "y.value_counts()"
      ],
      "id": "08bd7924-6cf0-46f3-8fd1-c4258876f635",
      "execution_count": null,
      "outputs": []
    },
    {
      "cell_type": "markdown",
      "metadata": {
        "id": "6fe0edf0-2d33-4089-91b9-4e977bb53cb6"
      },
      "source": [
        "## Single train-test split"
      ],
      "id": "6fe0edf0-2d33-4089-91b9-4e977bb53cb6"
    },
    {
      "cell_type": "markdown",
      "metadata": {
        "id": "e12ad1bd-620c-49f4-a16c-b61c2921e774"
      },
      "source": [
        "Split X & y to train-test subsets"
      ],
      "id": "e12ad1bd-620c-49f4-a16c-b61c2921e774"
    },
    {
      "cell_type": "code",
      "metadata": {
        "id": "d6b61045-ff3b-4f66-8cf6-2a857b7a7ca9"
      },
      "source": [
        "from sklearn.model_selection import train_test_split\n",
        "X_train, X_test, y_train, y_test = train_test_split(X, y, test_size=0.2, random_state=1)"
      ],
      "id": "d6b61045-ff3b-4f66-8cf6-2a857b7a7ca9",
      "execution_count": null,
      "outputs": []
    },
    {
      "cell_type": "code",
      "metadata": {
        "id": "P0Epw9aqcYlT"
      },
      "source": [
        "X_train"
      ],
      "id": "P0Epw9aqcYlT",
      "execution_count": null,
      "outputs": []
    },
    {
      "cell_type": "code",
      "metadata": {
        "id": "z95CNq2ibVpN"
      },
      "source": [
        "X.shape"
      ],
      "id": "z95CNq2ibVpN",
      "execution_count": null,
      "outputs": []
    },
    {
      "cell_type": "code",
      "metadata": {
        "id": "wOmyvidLbQMA"
      },
      "source": [
        "X_train.shape"
      ],
      "id": "wOmyvidLbQMA",
      "execution_count": null,
      "outputs": []
    },
    {
      "cell_type": "code",
      "metadata": {
        "id": "mAVOd1axbS3f"
      },
      "source": [
        "X_test.shape"
      ],
      "id": "mAVOd1axbS3f",
      "execution_count": null,
      "outputs": []
    },
    {
      "cell_type": "markdown",
      "metadata": {
        "id": "7563f382-037a-40db-8b55-6f74e1862ad0"
      },
      "source": [
        "### **1/ Model training** - finding the X<->y relation"
      ],
      "id": "7563f382-037a-40db-8b55-6f74e1862ad0"
    },
    {
      "cell_type": "code",
      "metadata": {
        "id": "3c5a70c5-ac43-4bce-aab0-2d181c746d45"
      },
      "source": [
        "from sklearn.linear_model import LogisticRegression\n",
        "from sklearn.ensemble import RandomForestClassifier\n",
        "\n",
        "# model = LogisticRegression(solver='liblinear') # We should standardize input before LogisticRegression (+ log1p)\n",
        "model = RandomForestClassifier()\n",
        "model.fit(X_train, y_train)"
      ],
      "id": "3c5a70c5-ac43-4bce-aab0-2d181c746d45",
      "execution_count": null,
      "outputs": []
    },
    {
      "cell_type": "markdown",
      "metadata": {
        "id": "2902d8c8-c3dc-4d41-9c44-c82a3438b250"
      },
      "source": [
        "### **2/ Model prediction** "
      ],
      "id": "2902d8c8-c3dc-4d41-9c44-c82a3438b250"
    },
    {
      "cell_type": "markdown",
      "metadata": {
        "id": "13eca34f-5032-45d4-a852-574d54191a0a"
      },
      "source": [
        "When model is trained, we can predict *target* variable based only on *features*."
      ],
      "id": "13eca34f-5032-45d4-a852-574d54191a0a"
    },
    {
      "cell_type": "code",
      "metadata": {
        "id": "18b2239f-7181-4dc4-bd14-2eb4bf3e1f2b"
      },
      "source": [
        "y_test_pred = model.predict(X_test)\n",
        "y_test_pred"
      ],
      "id": "18b2239f-7181-4dc4-bd14-2eb4bf3e1f2b",
      "execution_count": null,
      "outputs": []
    },
    {
      "cell_type": "markdown",
      "metadata": {
        "id": "485e57d3-fdec-4e2b-8844-7209337d381d"
      },
      "source": [
        "### **3/ Model Evaluation** - estimating the power of the X<->y relation"
      ],
      "id": "485e57d3-fdec-4e2b-8844-7209337d381d"
    },
    {
      "cell_type": "markdown",
      "metadata": {
        "id": "ffb7179c-c6a4-4b1e-8b5a-f7ca02f20b60"
      },
      "source": [
        "and then evaluate how accurate those predictions are."
      ],
      "id": "ffb7179c-c6a4-4b1e-8b5a-f7ca02f20b60"
    },
    {
      "cell_type": "code",
      "metadata": {
        "id": "0a066a96-2139-45f2-8262-53dff4def5a5"
      },
      "source": [
        "from sklearn.metrics import accuracy_score\n",
        "\n",
        "acc_score = accuracy_score(y_test_pred, y_test)\n",
        "acc_score"
      ],
      "id": "0a066a96-2139-45f2-8262-53dff4def5a5",
      "execution_count": null,
      "outputs": []
    },
    {
      "cell_type": "markdown",
      "metadata": {
        "id": "8841ea80-e72c-4d69-8e52-ee9f43904713"
      },
      "source": [
        "**Accuracy** is not the best metric, especially for unbalanced datasets. We can use **Balanced Accuracy** or **ROC AUC** instead."
      ],
      "id": "8841ea80-e72c-4d69-8e52-ee9f43904713"
    },
    {
      "cell_type": "code",
      "metadata": {
        "id": "3a73031b-fe08-4fe7-a161-5e3502db15f8"
      },
      "source": [
        "from sklearn.metrics import roc_auc_score, balanced_accuracy_score\n",
        "\n",
        "print('Balanced accuracy: ', balanced_accuracy_score(y_test, y_test_pred))\n",
        "print('ROC AUC: ', roc_auc_score(y_test, model.predict_proba(X_test)[:, 1]))"
      ],
      "id": "3a73031b-fe08-4fe7-a161-5e3502db15f8",
      "execution_count": null,
      "outputs": []
    },
    {
      "cell_type": "markdown",
      "metadata": {
        "id": "11ee4e76-afd6-49ae-9534-4b883e7422b6"
      },
      "source": [
        "### **4/ Model Interpretation** - estimating the X<->y relation"
      ],
      "id": "11ee4e76-afd6-49ae-9534-4b883e7422b6"
    },
    {
      "cell_type": "code",
      "metadata": {
        "scrolled": true,
        "tags": [],
        "id": "7e195921-df94-496e-9345-c42c736f998c"
      },
      "source": [
        "## For LogisticRegression\n",
        "# importance = model.coef_.abs() \n",
        "\n",
        "## For RandomForestClassifier\n",
        "importances = model.feature_importances_  \n",
        "importances[:5]"
      ],
      "id": "7e195921-df94-496e-9345-c42c736f998c",
      "execution_count": null,
      "outputs": []
    },
    {
      "cell_type": "code",
      "metadata": {
        "id": "9a752209-79fc-4c38-b19c-26e766f3e536"
      },
      "source": [
        "importances = pd.Series(\n",
        "    index=X.columns,\n",
        "    data=importances.squeeze()\n",
        ")\n",
        "importances.head()"
      ],
      "id": "9a752209-79fc-4c38-b19c-26e766f3e536",
      "execution_count": null,
      "outputs": []
    },
    {
      "cell_type": "markdown",
      "metadata": {
        "id": "d2d433dc-3c10-47cb-a711-c0ba080e5b91"
      },
      "source": [
        "**Most important metabolites:**"
      ],
      "id": "d2d433dc-3c10-47cb-a711-c0ba080e5b91"
    },
    {
      "cell_type": "code",
      "metadata": {
        "id": "a932d9a2-f614-4dfc-90ea-fa33414b315d"
      },
      "source": [
        "importances.sort_values(ascending=False).head(10)"
      ],
      "id": "a932d9a2-f614-4dfc-90ea-fa33414b315d",
      "execution_count": null,
      "outputs": []
    },
    {
      "cell_type": "code",
      "metadata": {
        "id": "7a4677d0-9267-4ff8-8ccf-2aa322bb7fde"
      },
      "source": [
        "sns.boxplot(\n",
        "    data=metabolites[is_in_34_or_healthy],\n",
        "    x='Group',\n",
        "    y='C16741_5-Hydroxylysine'\n",
        ")"
      ],
      "id": "7a4677d0-9267-4ff8-8ccf-2aa322bb7fde",
      "execution_count": null,
      "outputs": []
    },
    {
      "cell_type": "markdown",
      "source": [
        "## $\\color{purple}{\\text{Exercise 3}}$\n",
        "\n",
        "Repeat the same training-testing procedure for `Healthy vs Stage_I_II` problem. Is the found relation stronger or not? Why?\n",
        "\n",
        "[5 min]\n"
      ],
      "metadata": {
        "id": "BMsqLEMQ0av9"
      },
      "id": "BMsqLEMQ0av9"
    },
    {
      "cell_type": "code",
      "source": [
        "# Your code goes here"
      ],
      "metadata": {
        "id": "KhZF-zbJ0Zjs"
      },
      "id": "KhZF-zbJ0Zjs",
      "execution_count": null,
      "outputs": []
    },
    {
      "cell_type": "markdown",
      "metadata": {
        "id": "d28cf0c8-9b39-41d6-abb8-4ad000ba4891"
      },
      "source": [
        "## Cross Validation"
      ],
      "id": "d28cf0c8-9b39-41d6-abb8-4ad000ba4891"
    },
    {
      "cell_type": "code",
      "metadata": {
        "id": "69343606-38ed-4d95-9d6d-29ac66d9758f"
      },
      "source": [
        "from sklearn.model_selection import cross_validate\n",
        "\n",
        "results = cross_validate(\n",
        "    estimator=model,\n",
        "    X=X,\n",
        "    y=y,\n",
        "    cv=10,\n",
        "    scoring='accuracy',\n",
        "    return_estimator=True\n",
        ")\n",
        "\n",
        "results"
      ],
      "id": "69343606-38ed-4d95-9d6d-29ac66d9758f",
      "execution_count": null,
      "outputs": []
    },
    {
      "cell_type": "code",
      "metadata": {
        "id": "4ea69701-18e1-4a23-bdd7-7d22c7ffe115"
      },
      "source": [
        "results['test_score'].mean(), results['test_score'].std()"
      ],
      "id": "4ea69701-18e1-4a23-bdd7-7d22c7ffe115",
      "execution_count": null,
      "outputs": []
    },
    {
      "cell_type": "code",
      "metadata": {
        "id": "9955167b-df7d-411a-ae56-07a051e01647"
      },
      "source": [
        "importances = pd.DataFrame(\n",
        "    data=[est.feature_importances_ for est in results['estimator']],\n",
        "    columns=X.columns\n",
        ")\n",
        "\n",
        "importances.agg(['mean', 'std']).T.sort_values('mean', ascending=False).head(10)"
      ],
      "id": "9955167b-df7d-411a-ae56-07a051e01647",
      "execution_count": null,
      "outputs": []
    },
    {
      "cell_type": "code",
      "metadata": {
        "id": "94ea84c4-7417-486a-9b98-ff806e11ade3"
      },
      "source": [
        "sns.boxplot(\n",
        "    data=metabolites[is_in_34_or_healthy],\n",
        "    x='Group',\n",
        "    y='C01026_N,N-Dimethylglycine'\n",
        ")"
      ],
      "id": "94ea84c4-7417-486a-9b98-ff806e11ade3",
      "execution_count": null,
      "outputs": []
    },
    {
      "cell_type": "markdown",
      "metadata": {
        "id": "62f22046-2077-4ad9-857d-e69e0eeaff88"
      },
      "source": [
        "## $\\color{purple}{\\text{Exercise 4}}$\n",
        "\n",
        "1. Repeat the same crossvalidation procedure for `Healthy vs Stage_I_II` problem. Is the found relation stronger or not? Why? Are there the exact most important features? Why? If there is time, you can also compare it with `Healthy vs Stage_0` case.\n",
        "2. (Optionally) Same but to predict `Gender`. How can this model be useful?\n",
        "\n",
        "[8 min]"
      ],
      "id": "62f22046-2077-4ad9-857d-e69e0eeaff88"
    },
    {
      "cell_type": "code",
      "metadata": {
        "id": "f4806e3a-ae98-47b8-a694-d1f3e96533d5"
      },
      "source": [
        "# Your code goes here"
      ],
      "id": "f4806e3a-ae98-47b8-a694-d1f3e96533d5",
      "execution_count": null,
      "outputs": []
    },
    {
      "cell_type": "markdown",
      "metadata": {
        "id": "958136e7-c69e-4736-ace0-09fe3e870b8f"
      },
      "source": [
        "## $\\color{darkorange}{\\text{Homework}}$\n",
        "1. Go to https://archive.ics.uci.edu/ml/index.php\n",
        "2. Select one dataset (choose one with csv or tsv file - it will be easier to start).\n",
        "3. Repeat similar analysis as in this notebook."
      ],
      "id": "958136e7-c69e-4736-ace0-09fe3e870b8f"
    }
  ]
}